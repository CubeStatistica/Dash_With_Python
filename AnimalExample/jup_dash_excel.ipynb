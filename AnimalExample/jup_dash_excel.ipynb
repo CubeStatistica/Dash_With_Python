{
 "cells": [
  {
   "cell_type": "code",
   "execution_count": null,
   "metadata": {},
   "outputs": [
    {
     "name": "stdout",
     "output_type": "stream",
     "text": [
      "Dash is running on http://127.0.0.1:8050/\n",
      "\n",
      " * Serving Flask app \"__main__\" (lazy loading)\n",
      " * Environment: production\n",
      "   WARNING: This is a development server. Do not use it in a production deployment.\n",
      "   Use a production WSGI server instead.\n",
      " * Debug mode: off\n"
     ]
    },
    {
     "name": "stderr",
     "output_type": "stream",
     "text": [
      " * Running on http://127.0.0.1:8050/ (Press CTRL+C to quit)\n"
     ]
    }
   ],
   "source": [
    "import dash                     # pip install dash\n",
    "from dash.dependencies import Input, Output, State\n",
    "import dash_core_components as dcc\n",
    "import dash_html_components as html\n",
    "import plotly.express as px     # pip install plotly==5.2.2\n",
    "\n",
    "import pandas as pd             # pip install pandas\n",
    "# Data: https://www.dallasopendata.com/Services/Animals-Inventory/qgg6-h4bd\n",
    "\n",
    "df = pd.read_csv(\"https://raw.githubusercontent.com/Coding-with-Adam/Dash-by-Plotly/master/Analytic_Web_Apps/Excel_to_Dash_Animal_Shelter/Animals_Inventory.csv\")\n",
    "df[\"intake_time\"] = pd.to_datetime(df[\"intake_time\"])\n",
    "df[\"intake_time\"] = df[\"intake_time\"].dt.hour\n",
    "# print(df.head())\n",
    "\n",
    "\n",
    "external_stylesheets = ['https://codepen.io/chriddyp/pen/bWLwgP.css']\n",
    "app = dash.Dash(__name__, external_stylesheets=external_stylesheets)\n",
    "\n",
    "app.layout = html.Div([\n",
    "    html.H1(\"Analytics Dashboard of Dallas Animal Shelter (Dash Plotly)\", style={\"textAlign\":\"center\"}),\n",
    "    html.Hr(),\n",
    "    html.P(\"Choose animal of interest:\"),\n",
    "    html.Div(html.Div([\n",
    "        dcc.Dropdown(id='animal-type', clearable=False,\n",
    "                     value=\"DOG\",\n",
    "                     options=[{'label': x, 'value': x} for x in\n",
    "                              df[\"animal_type\"].unique()]),\n",
    "    ],className=\"two columns\"),className=\"row\"),\n",
    "\n",
    "    html.Div(id=\"output-div\", children=[]),\n",
    "])\n",
    "\n",
    "\n",
    "@app.callback(Output(component_id=\"output-div\", component_property=\"children\"),\n",
    "              Input(component_id=\"animal-type\", component_property=\"value\"),\n",
    ")\n",
    "def make_graphs(animal_chosen):\n",
    "    # HISTOGRAM\n",
    "    df_hist = df[df[\"animal_type\"]==animal_chosen]\n",
    "    fig_hist = px.histogram(df_hist, x=\"animal_breed\")\n",
    "    fig_hist.update_xaxes(categoryorder=\"total descending\")\n",
    "\n",
    "    # STRIP CHART\n",
    "    fig_strip = px.strip(df_hist, x=\"animal_stay_days\", y=\"intake_type\")\n",
    "\n",
    "    # SUNBURST\n",
    "    df_sburst = df.dropna(subset=['chip_status'])\n",
    "    df_sburst = df_sburst[df_sburst[\"intake_type\"].isin([\"STRAY\", \"FOSTER\", \"OWNER SURRENDER\"])]\n",
    "    fig_sunburst = px.sunburst(df_sburst, path=[\"animal_type\", \"intake_type\", \"chip_status\"])\n",
    "\n",
    "    # Empirical Cumulative Distribution\n",
    "    df_ecdf = df[df[\"animal_type\"].isin([\"DOG\",\"CAT\"])]\n",
    "    fig_ecdf = px.ecdf(df_ecdf, x=\"animal_stay_days\", color=\"animal_type\")\n",
    "\n",
    "    # LINE CHART\n",
    "    df_line = df.sort_values(by=[\"intake_time\"], ascending=True)\n",
    "    df_line = df_line.groupby(\n",
    "        [\"intake_time\", \"animal_type\"]).size().reset_index(name=\"count\")\n",
    "    print(df_line.head())\n",
    "    fig_line = px.line(df_line, x=\"intake_time\", y=\"count\",\n",
    "                       color=\"animal_type\", markers=True)\n",
    "\n",
    "    return [\n",
    "        html.Div([\n",
    "            html.Div([dcc.Graph(figure=fig_hist)], className=\"six columns\"),\n",
    "            html.Div([dcc.Graph(figure=fig_strip)], className=\"six columns\"),\n",
    "        ], className=\"row\"),\n",
    "        html.H2(\"All Animals\", style={\"textAlign\":\"center\"}),\n",
    "        html.Hr(),\n",
    "        html.Div([\n",
    "            html.Div([dcc.Graph(figure=fig_sunburst)], className=\"six columns\"),\n",
    "            html.Div([dcc.Graph(figure=fig_ecdf)], className=\"six columns\"),\n",
    "        ], className=\"row\"),\n",
    "        html.Div([\n",
    "            html.Div([dcc.Graph(figure=fig_line)], className=\"twelve columns\"),\n",
    "        ], className=\"row\"),\n",
    "    ]\n",
    "\n",
    "\n",
    "if __name__ == '__main__':\n",
    "    app.run_server(debug=False)\n"
   ]
  }
 ],
 "metadata": {
  "kernelspec": {
   "display_name": "Python 3",
   "language": "python",
   "name": "python3"
  },
  "language_info": {
   "codemirror_mode": {
    "name": "ipython",
    "version": 3
   },
   "file_extension": ".py",
   "mimetype": "text/x-python",
   "name": "python",
   "nbconvert_exporter": "python",
   "pygments_lexer": "ipython3",
   "version": "3.8.3"
  }
 },
 "nbformat": 4,
 "nbformat_minor": 4
}
